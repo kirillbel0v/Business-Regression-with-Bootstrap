{
  "cells": [
    {
      "cell_type": "markdown",
      "metadata": {
        "id": "Xy7NELy2r3Fu"
      },
      "source": [
        "# Выбор локации для скважины"
      ]
    },
    {
      "cell_type": "markdown",
      "metadata": {
        "id": "avbzsEk9r3Fv"
      },
      "source": [
        "Допустим, вы работаете в добывающей компании «ГлавРосГосНефть». Нужно решить, где бурить новую скважину.\n",
        "\n",
        "Вам предоставлены пробы нефти в трёх регионах: в каждом 10 000 месторождений, где измерили качество нефти и объём её запасов. Постройте модель машинного обучения, которая поможет определить регион, где добыча принесёт наибольшую прибыль. Проанализируйте возможную прибыль и риски техникой *Bootstrap.*\n",
        "\n",
        "Шаги для выбора локации:\n",
        "\n",
        "- В избранном регионе ищут месторождения, для каждого определяют значения признаков;\n",
        "- Строят модель и оценивают объём запасов;\n",
        "- Выбирают месторождения с самым высокими оценками значений. Количество месторождений зависит от бюджета компании и стоимости разработки одной скважины;\n",
        "- Прибыль равна суммарной прибыли отобранных месторождений."
      ]
    },
    {
      "cell_type": "markdown",
      "metadata": {
        "id": "ybdA3umwr3Fv"
      },
      "source": [
        "## Загрузка и подготовка данных"
      ]
    },
    {
      "cell_type": "markdown",
      "metadata": {
        "id": "laDRpu0Ir3Fv"
      },
      "source": [
        "Импортируем необходимые библиотеки:"
      ]
    },
    {
      "cell_type": "code",
      "execution_count": null,
      "metadata": {
        "id": "L_qIdbOCr3Fv"
      },
      "outputs": [],
      "source": [
        "import pandas as pd # импорт библиотеки pandas\n",
        "import matplotlib.pyplot as plt # импорт библиотеки matplotlib\n",
        "plt.style.use('seaborn-pastel')\n",
        "import seaborn as sns # импорт библиотеки seaborn\n",
        "import numpy as np # импорт библиотеки nump\n",
        "from scipy import stats as st # импорт библиотеки scipy\n",
        "from sklearn.linear_model import LinearRegression # импорт линейной регрессии\n",
        "from sklearn.metrics import mean_squared_error\n",
        "from sklearn.model_selection import train_test_split # импорт разделителя\n",
        "from sklearn.utils import shuffle # импорт шаффла для перемешивания\n",
        "import warnings\n",
        "warnings.filterwarnings(\"ignore\")"
      ]
    },
    {
      "cell_type": "code",
      "execution_count": null,
      "metadata": {
        "id": "ZtfddWl9r3Fv"
      },
      "outputs": [],
      "source": [
        "reg_1 = pd.read_csv('/datasets/geo_data_0.csv')\n",
        "reg_2 = pd.read_csv('/datasets/geo_data_1.csv')\n",
        "reg_3 = pd.read_csv('/datasets/geo_data_2.csv')\n",
        "\n",
        "#создадим словарь с регионами\n",
        "region_list = {'Region 1': reg_1,\n",
        "              'Region 2': reg_2,\n",
        "              'Region 3': reg_3}"
      ]
    },
    {
      "cell_type": "code",
      "execution_count": null,
      "metadata": {
        "id": "AI5cRpN2r3Fv"
      },
      "outputs": [],
      "source": [
        "def inf(data):\n",
        "    display(data.head())\n",
        "    display(data.info())\n",
        "    print('Количество пропусков')\n",
        "    display(data.isnull().sum())\n",
        "    print('Количество дубликатов')\n",
        "    display(data.duplicated().sum())"
      ]
    },
    {
      "cell_type": "markdown",
      "metadata": {
        "id": "Hmb2cOZNr3Fv"
      },
      "source": [
        "### reg_1"
      ]
    },
    {
      "cell_type": "code",
      "execution_count": null,
      "metadata": {
        "id": "kYDtJCugr3Fw",
        "outputId": "9b33fed8-0fce-4fc8-9ab5-89076d2aae2e"
      },
      "outputs": [
        {
          "data": {
            "text/html": [
              "<div>\n",
              "<style scoped>\n",
              "    .dataframe tbody tr th:only-of-type {\n",
              "        vertical-align: middle;\n",
              "    }\n",
              "\n",
              "    .dataframe tbody tr th {\n",
              "        vertical-align: top;\n",
              "    }\n",
              "\n",
              "    .dataframe thead th {\n",
              "        text-align: right;\n",
              "    }\n",
              "</style>\n",
              "<table border=\"1\" class=\"dataframe\">\n",
              "  <thead>\n",
              "    <tr style=\"text-align: right;\">\n",
              "      <th></th>\n",
              "      <th>id</th>\n",
              "      <th>f0</th>\n",
              "      <th>f1</th>\n",
              "      <th>f2</th>\n",
              "      <th>product</th>\n",
              "    </tr>\n",
              "  </thead>\n",
              "  <tbody>\n",
              "    <tr>\n",
              "      <th>0</th>\n",
              "      <td>txEyH</td>\n",
              "      <td>0.705745</td>\n",
              "      <td>-0.497823</td>\n",
              "      <td>1.221170</td>\n",
              "      <td>105.280062</td>\n",
              "    </tr>\n",
              "    <tr>\n",
              "      <th>1</th>\n",
              "      <td>2acmU</td>\n",
              "      <td>1.334711</td>\n",
              "      <td>-0.340164</td>\n",
              "      <td>4.365080</td>\n",
              "      <td>73.037750</td>\n",
              "    </tr>\n",
              "    <tr>\n",
              "      <th>2</th>\n",
              "      <td>409Wp</td>\n",
              "      <td>1.022732</td>\n",
              "      <td>0.151990</td>\n",
              "      <td>1.419926</td>\n",
              "      <td>85.265647</td>\n",
              "    </tr>\n",
              "    <tr>\n",
              "      <th>3</th>\n",
              "      <td>iJLyR</td>\n",
              "      <td>-0.032172</td>\n",
              "      <td>0.139033</td>\n",
              "      <td>2.978566</td>\n",
              "      <td>168.620776</td>\n",
              "    </tr>\n",
              "    <tr>\n",
              "      <th>4</th>\n",
              "      <td>Xdl7t</td>\n",
              "      <td>1.988431</td>\n",
              "      <td>0.155413</td>\n",
              "      <td>4.751769</td>\n",
              "      <td>154.036647</td>\n",
              "    </tr>\n",
              "  </tbody>\n",
              "</table>\n",
              "</div>"
            ],
            "text/plain": [
              "      id        f0        f1        f2     product\n",
              "0  txEyH  0.705745 -0.497823  1.221170  105.280062\n",
              "1  2acmU  1.334711 -0.340164  4.365080   73.037750\n",
              "2  409Wp  1.022732  0.151990  1.419926   85.265647\n",
              "3  iJLyR -0.032172  0.139033  2.978566  168.620776\n",
              "4  Xdl7t  1.988431  0.155413  4.751769  154.036647"
            ]
          },
          "metadata": {},
          "output_type": "display_data"
        },
        {
          "name": "stdout",
          "output_type": "stream",
          "text": [
            "<class 'pandas.core.frame.DataFrame'>\n",
            "RangeIndex: 100000 entries, 0 to 99999\n",
            "Data columns (total 5 columns):\n",
            " #   Column   Non-Null Count   Dtype  \n",
            "---  ------   --------------   -----  \n",
            " 0   id       100000 non-null  object \n",
            " 1   f0       100000 non-null  float64\n",
            " 2   f1       100000 non-null  float64\n",
            " 3   f2       100000 non-null  float64\n",
            " 4   product  100000 non-null  float64\n",
            "dtypes: float64(4), object(1)\n",
            "memory usage: 3.8+ MB\n"
          ]
        },
        {
          "data": {
            "text/plain": [
              "None"
            ]
          },
          "metadata": {},
          "output_type": "display_data"
        },
        {
          "name": "stdout",
          "output_type": "stream",
          "text": [
            "Количество пропусков\n"
          ]
        },
        {
          "data": {
            "text/plain": [
              "id         0\n",
              "f0         0\n",
              "f1         0\n",
              "f2         0\n",
              "product    0\n",
              "dtype: int64"
            ]
          },
          "metadata": {},
          "output_type": "display_data"
        },
        {
          "name": "stdout",
          "output_type": "stream",
          "text": [
            "Количество дубликатов\n"
          ]
        },
        {
          "data": {
            "text/plain": [
              "0"
            ]
          },
          "metadata": {},
          "output_type": "display_data"
        }
      ],
      "source": [
        "inf(reg_1)"
      ]
    },
    {
      "cell_type": "code",
      "execution_count": null,
      "metadata": {
        "id": "wopB7vrAr3Fw",
        "outputId": "870ec0da-2c20-428b-b62c-698d176b21ba"
      },
      "outputs": [
        {
          "name": "stdout",
          "output_type": "stream",
          "text": [
            "10\n",
            "0\n",
            "0\n",
            "0\n"
          ]
        }
      ],
      "source": [
        "print(reg_1['id'].duplicated().sum())\n",
        "print(reg_1['f0'].duplicated().sum())\n",
        "print(reg_1['f1'].duplicated().sum())\n",
        "print(reg_1['f2'].duplicated().sum())"
      ]
    },
    {
      "cell_type": "markdown",
      "metadata": {
        "id": "nTNd2n4Ur3Fw"
      },
      "source": [
        "С данными по первому региону все в порядке, кроме столбца 'id'."
      ]
    },
    {
      "cell_type": "markdown",
      "metadata": {
        "id": "5x9Qk7qKr3Fw"
      },
      "source": [
        "### reg_2"
      ]
    },
    {
      "cell_type": "code",
      "execution_count": null,
      "metadata": {
        "id": "3l8_ReAQr3Fw",
        "outputId": "7826c45e-1ac1-473d-9975-bd493c6d3858"
      },
      "outputs": [
        {
          "data": {
            "text/html": [
              "<div>\n",
              "<style scoped>\n",
              "    .dataframe tbody tr th:only-of-type {\n",
              "        vertical-align: middle;\n",
              "    }\n",
              "\n",
              "    .dataframe tbody tr th {\n",
              "        vertical-align: top;\n",
              "    }\n",
              "\n",
              "    .dataframe thead th {\n",
              "        text-align: right;\n",
              "    }\n",
              "</style>\n",
              "<table border=\"1\" class=\"dataframe\">\n",
              "  <thead>\n",
              "    <tr style=\"text-align: right;\">\n",
              "      <th></th>\n",
              "      <th>id</th>\n",
              "      <th>f0</th>\n",
              "      <th>f1</th>\n",
              "      <th>f2</th>\n",
              "      <th>product</th>\n",
              "    </tr>\n",
              "  </thead>\n",
              "  <tbody>\n",
              "    <tr>\n",
              "      <th>0</th>\n",
              "      <td>kBEdx</td>\n",
              "      <td>-15.001348</td>\n",
              "      <td>-8.276000</td>\n",
              "      <td>-0.005876</td>\n",
              "      <td>3.179103</td>\n",
              "    </tr>\n",
              "    <tr>\n",
              "      <th>1</th>\n",
              "      <td>62mP7</td>\n",
              "      <td>14.272088</td>\n",
              "      <td>-3.475083</td>\n",
              "      <td>0.999183</td>\n",
              "      <td>26.953261</td>\n",
              "    </tr>\n",
              "    <tr>\n",
              "      <th>2</th>\n",
              "      <td>vyE1P</td>\n",
              "      <td>6.263187</td>\n",
              "      <td>-5.948386</td>\n",
              "      <td>5.001160</td>\n",
              "      <td>134.766305</td>\n",
              "    </tr>\n",
              "    <tr>\n",
              "      <th>3</th>\n",
              "      <td>KcrkZ</td>\n",
              "      <td>-13.081196</td>\n",
              "      <td>-11.506057</td>\n",
              "      <td>4.999415</td>\n",
              "      <td>137.945408</td>\n",
              "    </tr>\n",
              "    <tr>\n",
              "      <th>4</th>\n",
              "      <td>AHL4O</td>\n",
              "      <td>12.702195</td>\n",
              "      <td>-8.147433</td>\n",
              "      <td>5.004363</td>\n",
              "      <td>134.766305</td>\n",
              "    </tr>\n",
              "  </tbody>\n",
              "</table>\n",
              "</div>"
            ],
            "text/plain": [
              "      id         f0         f1        f2     product\n",
              "0  kBEdx -15.001348  -8.276000 -0.005876    3.179103\n",
              "1  62mP7  14.272088  -3.475083  0.999183   26.953261\n",
              "2  vyE1P   6.263187  -5.948386  5.001160  134.766305\n",
              "3  KcrkZ -13.081196 -11.506057  4.999415  137.945408\n",
              "4  AHL4O  12.702195  -8.147433  5.004363  134.766305"
            ]
          },
          "metadata": {},
          "output_type": "display_data"
        },
        {
          "name": "stdout",
          "output_type": "stream",
          "text": [
            "<class 'pandas.core.frame.DataFrame'>\n",
            "RangeIndex: 100000 entries, 0 to 99999\n",
            "Data columns (total 5 columns):\n",
            " #   Column   Non-Null Count   Dtype  \n",
            "---  ------   --------------   -----  \n",
            " 0   id       100000 non-null  object \n",
            " 1   f0       100000 non-null  float64\n",
            " 2   f1       100000 non-null  float64\n",
            " 3   f2       100000 non-null  float64\n",
            " 4   product  100000 non-null  float64\n",
            "dtypes: float64(4), object(1)\n",
            "memory usage: 3.8+ MB\n"
          ]
        },
        {
          "data": {
            "text/plain": [
              "None"
            ]
          },
          "metadata": {},
          "output_type": "display_data"
        },
        {
          "name": "stdout",
          "output_type": "stream",
          "text": [
            "Количество пропусков\n"
          ]
        },
        {
          "data": {
            "text/plain": [
              "id         0\n",
              "f0         0\n",
              "f1         0\n",
              "f2         0\n",
              "product    0\n",
              "dtype: int64"
            ]
          },
          "metadata": {},
          "output_type": "display_data"
        },
        {
          "name": "stdout",
          "output_type": "stream",
          "text": [
            "Количество дубликатов\n"
          ]
        },
        {
          "data": {
            "text/plain": [
              "0"
            ]
          },
          "metadata": {},
          "output_type": "display_data"
        }
      ],
      "source": [
        "inf(reg_2)"
      ]
    },
    {
      "cell_type": "code",
      "execution_count": null,
      "metadata": {
        "id": "RTzvFsQNr3Fw",
        "outputId": "43344507-79b2-49c2-947d-f83f019df851"
      },
      "outputs": [
        {
          "name": "stdout",
          "output_type": "stream",
          "text": [
            "4\n",
            "0\n",
            "0\n",
            "0\n"
          ]
        }
      ],
      "source": [
        "print(reg_2['id'].duplicated().sum())\n",
        "print(reg_2['f0'].duplicated().sum())\n",
        "print(reg_2['f1'].duplicated().sum())\n",
        "print(reg_2['f2'].duplicated().sum())"
      ]
    },
    {
      "cell_type": "markdown",
      "metadata": {
        "id": "_FDZLoDGr3Fw"
      },
      "source": [
        "Второй регион тоже без замечаний, кроме 'id' - также обнаружены пропуски."
      ]
    },
    {
      "cell_type": "markdown",
      "metadata": {
        "id": "x3v5NiQDr3Fw"
      },
      "source": [
        "### reg_3"
      ]
    },
    {
      "cell_type": "code",
      "execution_count": null,
      "metadata": {
        "id": "vFMVPRqJr3Fw",
        "outputId": "48330cc2-6200-4d94-91d3-07735b3be198"
      },
      "outputs": [
        {
          "data": {
            "text/html": [
              "<div>\n",
              "<style scoped>\n",
              "    .dataframe tbody tr th:only-of-type {\n",
              "        vertical-align: middle;\n",
              "    }\n",
              "\n",
              "    .dataframe tbody tr th {\n",
              "        vertical-align: top;\n",
              "    }\n",
              "\n",
              "    .dataframe thead th {\n",
              "        text-align: right;\n",
              "    }\n",
              "</style>\n",
              "<table border=\"1\" class=\"dataframe\">\n",
              "  <thead>\n",
              "    <tr style=\"text-align: right;\">\n",
              "      <th></th>\n",
              "      <th>id</th>\n",
              "      <th>f0</th>\n",
              "      <th>f1</th>\n",
              "      <th>f2</th>\n",
              "      <th>product</th>\n",
              "    </tr>\n",
              "  </thead>\n",
              "  <tbody>\n",
              "    <tr>\n",
              "      <th>0</th>\n",
              "      <td>fwXo0</td>\n",
              "      <td>-1.146987</td>\n",
              "      <td>0.963328</td>\n",
              "      <td>-0.828965</td>\n",
              "      <td>27.758673</td>\n",
              "    </tr>\n",
              "    <tr>\n",
              "      <th>1</th>\n",
              "      <td>WJtFt</td>\n",
              "      <td>0.262778</td>\n",
              "      <td>0.269839</td>\n",
              "      <td>-2.530187</td>\n",
              "      <td>56.069697</td>\n",
              "    </tr>\n",
              "    <tr>\n",
              "      <th>2</th>\n",
              "      <td>ovLUW</td>\n",
              "      <td>0.194587</td>\n",
              "      <td>0.289035</td>\n",
              "      <td>-5.586433</td>\n",
              "      <td>62.871910</td>\n",
              "    </tr>\n",
              "    <tr>\n",
              "      <th>3</th>\n",
              "      <td>q6cA6</td>\n",
              "      <td>2.236060</td>\n",
              "      <td>-0.553760</td>\n",
              "      <td>0.930038</td>\n",
              "      <td>114.572842</td>\n",
              "    </tr>\n",
              "    <tr>\n",
              "      <th>4</th>\n",
              "      <td>WPMUX</td>\n",
              "      <td>-0.515993</td>\n",
              "      <td>1.716266</td>\n",
              "      <td>5.899011</td>\n",
              "      <td>149.600746</td>\n",
              "    </tr>\n",
              "  </tbody>\n",
              "</table>\n",
              "</div>"
            ],
            "text/plain": [
              "      id        f0        f1        f2     product\n",
              "0  fwXo0 -1.146987  0.963328 -0.828965   27.758673\n",
              "1  WJtFt  0.262778  0.269839 -2.530187   56.069697\n",
              "2  ovLUW  0.194587  0.289035 -5.586433   62.871910\n",
              "3  q6cA6  2.236060 -0.553760  0.930038  114.572842\n",
              "4  WPMUX -0.515993  1.716266  5.899011  149.600746"
            ]
          },
          "metadata": {},
          "output_type": "display_data"
        },
        {
          "name": "stdout",
          "output_type": "stream",
          "text": [
            "<class 'pandas.core.frame.DataFrame'>\n",
            "RangeIndex: 100000 entries, 0 to 99999\n",
            "Data columns (total 5 columns):\n",
            " #   Column   Non-Null Count   Dtype  \n",
            "---  ------   --------------   -----  \n",
            " 0   id       100000 non-null  object \n",
            " 1   f0       100000 non-null  float64\n",
            " 2   f1       100000 non-null  float64\n",
            " 3   f2       100000 non-null  float64\n",
            " 4   product  100000 non-null  float64\n",
            "dtypes: float64(4), object(1)\n",
            "memory usage: 3.8+ MB\n"
          ]
        },
        {
          "data": {
            "text/plain": [
              "None"
            ]
          },
          "metadata": {},
          "output_type": "display_data"
        },
        {
          "name": "stdout",
          "output_type": "stream",
          "text": [
            "Количество пропусков\n"
          ]
        },
        {
          "data": {
            "text/plain": [
              "id         0\n",
              "f0         0\n",
              "f1         0\n",
              "f2         0\n",
              "product    0\n",
              "dtype: int64"
            ]
          },
          "metadata": {},
          "output_type": "display_data"
        },
        {
          "name": "stdout",
          "output_type": "stream",
          "text": [
            "Количество дубликатов\n"
          ]
        },
        {
          "data": {
            "text/plain": [
              "0"
            ]
          },
          "metadata": {},
          "output_type": "display_data"
        }
      ],
      "source": [
        "inf(reg_3)"
      ]
    },
    {
      "cell_type": "code",
      "execution_count": null,
      "metadata": {
        "id": "8DLEnHE_r3Fx",
        "outputId": "9dfcf94a-62f0-4674-af83-5731a34d641f"
      },
      "outputs": [
        {
          "name": "stdout",
          "output_type": "stream",
          "text": [
            "4\n",
            "0\n",
            "0\n",
            "0\n"
          ]
        }
      ],
      "source": [
        "print(reg_3['id'].duplicated().sum())\n",
        "print(reg_3['f0'].duplicated().sum())\n",
        "print(reg_3['f1'].duplicated().sum())\n",
        "print(reg_3['f2'].duplicated().sum())"
      ]
    },
    {
      "cell_type": "markdown",
      "metadata": {
        "id": "3M6tFWddr3Fx"
      },
      "source": [
        "Третий регион явных недостатков тоже не имеет, кроме 'id'."
      ]
    },
    {
      "cell_type": "markdown",
      "metadata": {
        "id": "VkhIohz0r3Fx"
      },
      "source": [
        "**Вывод**\n",
        "\n",
        "Для построения будущей модели столбец 'id' явно не несет большой ценности, так как соответственно, удалим его из всех датафреймов."
      ]
    },
    {
      "cell_type": "code",
      "execution_count": null,
      "metadata": {
        "id": "vGucZ_Dlr3Fx"
      },
      "outputs": [],
      "source": [
        "reg_1 = reg_1.drop('id', axis = 1)\n",
        "reg_2 = reg_2.drop('id', axis = 1)\n",
        "reg_3 = reg_3.drop('id', axis = 1)"
      ]
    },
    {
      "cell_type": "markdown",
      "metadata": {
        "id": "xoFaVEf0r3Fx"
      },
      "source": [
        "## Обучение и проверка модели"
      ]
    },
    {
      "cell_type": "markdown",
      "metadata": {
        "id": "AFDV5XQvr3Fx"
      },
      "source": [
        "Для каждого региона обучим и проверим модель линейной регрессии.\n",
        "\n",
        "* разобьем выборку на train и vail в соотношении 75 к 25\n",
        "* обучим модель и сделаем предсказания на valid\n",
        "* сохраним предсказания и правильные ответы на valid\n",
        "* выведем на экран средний запас предсказанного сырья и RMSE модели\n",
        "* проанализируем полученные результаты"
      ]
    },
    {
      "cell_type": "markdown",
      "metadata": {
        "id": "0QL6GP_or3Fx"
      },
      "source": [
        "Создадим для удобства функцию для подсчета RMSE:"
      ]
    },
    {
      "cell_type": "code",
      "execution_count": null,
      "metadata": {
        "id": "xnxfmhthr3Fx"
      },
      "outputs": [],
      "source": [
        "def rmse(target_valid, predictions_valid):\n",
        "    x = mean_squared_error(target_valid, predictions_valid)**0.5\n",
        "    return x"
      ]
    },
    {
      "cell_type": "markdown",
      "metadata": {
        "id": "Y-FTW5XUr3Fx"
      },
      "source": [
        "Создадим для удобства функцию, которая сразу будет\n",
        "* выделять целевой признак\n",
        "* выделять параметры\n",
        "* делить выборку\n",
        "* обучать модель\n",
        "* подсчитывать RMSE\n",
        "\n",
        "На вход она, соответственно, будет принимать датасет."
      ]
    },
    {
      "cell_type": "code",
      "execution_count": null,
      "metadata": {
        "id": "PBtOtAoQr3Fx"
      },
      "outputs": [],
      "source": [
        "def model_calc(data):\n",
        "    #features и target\n",
        "    features = data.drop('product', axis = 1)\n",
        "    target = data['product']\n",
        "    #делим на valid и train\n",
        "    features_train, features_valid, target_train, target_valid = train_test_split(features,\n",
        "                                                                                 target,\n",
        "                                                                                 test_size = 0.25,\n",
        "                                                                                 random_state = 12345)\n",
        "    #обучаем модель\n",
        "    model = LinearRegression()\n",
        "    model.fit(features_train, target_train)\n",
        "    predictions = model.predict(features_valid)\n",
        "    #rmse\n",
        "    rmse_data = rmse(target_valid, predictions)\n",
        "    return target_valid, predictions, rmse_data"
      ]
    },
    {
      "cell_type": "code",
      "execution_count": null,
      "metadata": {
        "id": "XFddAwwur3Fx"
      },
      "outputs": [],
      "source": [
        "reg_1_tg_valid, predictions_1_valid, rmse_1 = model_calc(reg_1)\n",
        "reg_2_tg_valid, predictions_2_valid, rmse_2 = model_calc(reg_2)\n",
        "reg_3_tg_valid, predictions_3_valid, rmse_3 = model_calc(reg_3)"
      ]
    },
    {
      "cell_type": "markdown",
      "metadata": {
        "id": "hv2k3iPqr3Fx"
      },
      "source": [
        "Посчитаем средний предсказанный запас сырья:"
      ]
    },
    {
      "cell_type": "code",
      "execution_count": null,
      "metadata": {
        "id": "yQKpcdv1r3Fx"
      },
      "outputs": [],
      "source": [
        "mean_product_1 = predictions_1_valid.mean()\n",
        "mean_product_2 = predictions_2_valid.mean()\n",
        "mean_product_3 = predictions_3_valid.mean()"
      ]
    },
    {
      "cell_type": "markdown",
      "metadata": {
        "id": "B-_hkbZKr3Fx"
      },
      "source": [
        "Изучим результат:"
      ]
    },
    {
      "cell_type": "code",
      "execution_count": null,
      "metadata": {
        "id": "nPhzc_VZr3Fx",
        "outputId": "9410449b-934a-4fa2-9656-0d792b73f180"
      },
      "outputs": [
        {
          "name": "stdout",
          "output_type": "stream",
          "text": [
            "Средний запас предсказанного сырья для 1го региона: 92.59 RMSE: 37.5794217150813\n",
            "Средний запас предсказанного сырья для 2го региона: 68.73 RMSE: 0.893099286775617\n",
            "Средний запас предсказанного сырья для 3го региона: 94.97 RMSE: 40.02970873393434\n"
          ]
        }
      ],
      "source": [
        "print('Средний запас предсказанного сырья для 1го региона:', round(mean_product_1, 2), 'RMSE:', rmse_1)\n",
        "print('Средний запас предсказанного сырья для 2го региона:', round(mean_product_2, 2), 'RMSE:', rmse_2)\n",
        "print('Средний запас предсказанного сырья для 3го региона:', round(mean_product_3, 2), 'RMSE:', rmse_3)"
      ]
    },
    {
      "cell_type": "markdown",
      "metadata": {
        "id": "y8qXvHJvr3Fx"
      },
      "source": [
        "**Вывод**\n",
        "\n",
        "Лучший параметр RMSE показывает модель на 2м регионе."
      ]
    },
    {
      "cell_type": "markdown",
      "metadata": {
        "id": "9QVaNWjEr3Fy"
      },
      "source": [
        "## Подготовка к расчёту прибыли"
      ]
    },
    {
      "cell_type": "markdown",
      "metadata": {
        "id": "_Edong5Sr3F4"
      },
      "source": [
        "Создадим необходимые константы, в которые вложим известные нам значения:"
      ]
    },
    {
      "cell_type": "code",
      "execution_count": null,
      "metadata": {
        "id": "vGPkXJmPr3F5"
      },
      "outputs": [],
      "source": [
        "n_bores = 500\n",
        "n_exp = 200\n",
        "capital = 10000000000 / 1000000\n",
        "cost = 450000 / 1000000\n",
        "risk = 2.5"
      ]
    },
    {
      "cell_type": "markdown",
      "metadata": {
        "id": "h2oCn2_Tr3F5"
      },
      "source": [
        "Проведем подсчеты:"
      ]
    },
    {
      "cell_type": "code",
      "execution_count": null,
      "metadata": {
        "id": "5kphLU-Yr3F5",
        "outputId": "b86c85fa-513c-4d98-c0b2-f01522db763b"
      },
      "outputs": [
        {
          "name": "stdout",
          "output_type": "stream",
          "text": [
            "Необходимый средний объем одной скважины, чтобы она была неубыточна: 111.11111111111111\n",
            "\n",
            "Средний объем сырья в Region 1 убыточен: 92.5\n",
            "Средний объем сырья в Region 2 убыточен: 68.825\n",
            "Средний объем сырья в Region 3 убыточен: 95.0\n"
          ]
        }
      ],
      "source": [
        "product_needed = capital / n_exp / cost\n",
        "\n",
        "print('Необходимый средний объем одной скважины, чтобы она была неубыточна:', product_needed)\n",
        "print('')\n",
        "for reg in region_list:\n",
        "    x = region_list[reg]['product'].mean()\n",
        "    if x > product_needed:\n",
        "        print(f'Средний объем сырья в {reg} неубыточный: {round(x, 3)}')\n",
        "    else:\n",
        "        print(f'Средний объем сырья в {reg} убыточен: {round(x, 3)}')"
      ]
    },
    {
      "cell_type": "markdown",
      "metadata": {
        "id": "E5XBhHkzr3F5"
      },
      "source": [
        "**Вывод**\n",
        "\n",
        "По полученным данным видим, что все регионы убыточны."
      ]
    },
    {
      "cell_type": "markdown",
      "metadata": {
        "id": "jguhsPC7r3F5"
      },
      "source": [
        "## Расчёт прибыли и рисков"
      ]
    },
    {
      "cell_type": "markdown",
      "metadata": {
        "id": "jk4PceNjr3F5"
      },
      "source": [
        "Создадим функцию, которая будет расчитывать прибыль по выбранным скважинам, а также предсказаниям модели.\n",
        "\n",
        "* Выберем скважины с максимальными значениями предсказаний\n",
        "* Просуммироуем целевое значение объема сырья, соответствующие этим предсказаниям\n",
        "* Рассчитаем прибыль для полученного объема сырья"
      ]
    },
    {
      "cell_type": "code",
      "execution_count": null,
      "metadata": {
        "id": "D215u1b7r3F5"
      },
      "outputs": [],
      "source": [
        "#преобразуем результаты предскзааний в Pandas Series\n",
        "\n",
        "predictions_1_valid = pd.Series(predictions_1_valid)\n",
        "predictions_2_valid = pd.Series(predictions_2_valid)\n",
        "predictions_3_valid = pd.Series(predictions_3_valid)"
      ]
    },
    {
      "cell_type": "code",
      "execution_count": null,
      "metadata": {
        "id": "JaZA1gkNr3F5"
      },
      "outputs": [],
      "source": [
        "def revenue_profit (target, bores, count, capital):\n",
        "    boes_sorted = bores.sort_values(ascending = False) # сортируем по предсказанию\n",
        "    selected = target[boes_sorted.index][:count] # выбираем лучшие но по фактическим индексам\n",
        "    revenue = cost * selected.sum() # считаем заработок с выбранных скважин\n",
        "    profit = revenue - capital #считаем прибыль\n",
        "    return profit"
      ]
    },
    {
      "cell_type": "markdown",
      "metadata": {
        "id": "Zih3QNKvr3F6"
      },
      "source": [
        "Посчитаем риски и прибыль для каждого региона:\n",
        "\n",
        "1. Применим технику Booystrap с 1000 выборок, чтобы найти распределение прибыли\n",
        "2. Найдем среднюю прибыль, 95%-й доверительный интервал и риск убытков. Убыток - это отрицательная прибыль.\n",
        "3. Подготовим выводы - предложим регион для разработки скважин и обоснуем выбор.\n",
        "\n",
        "Создадим функцию для подсчета результатов:"
      ]
    },
    {
      "cell_type": "code",
      "execution_count": null,
      "metadata": {
        "id": "ocZirFgAr3F6"
      },
      "outputs": [],
      "source": [
        "def check_region(target, predictions):\n",
        "    #создаем список\n",
        "    values = []\n",
        "    #применим Bootstrap\n",
        "    state = np.random.RandomState(12345)\n",
        "    for i in range(1000):\n",
        "        target_subsample = target.reset_index(drop = True).sample(n = n_bores, replace = True, random_state = state)\n",
        "        pred_subsample = predictions[target_subsample.index]\n",
        "        value = revenue_profit(target_subsample, pred_subsample, n_exp, capital)\n",
        "        values.append(value)\n",
        "    #считаем количество убытков\n",
        "    values = pd.Series(values)\n",
        "    risk = (values < 0).mean()\n",
        "    #считаем доверительный интервал\n",
        "    lower = values.quantile(0.025)\n",
        "    upper = values.quantile(0.975)\n",
        "    #выводим результат\n",
        "    print('Средняя прибыль в регионе:', round(values.mean(), 2), 'млн.руб.')\n",
        "    print(f'95% доверительный интервал: ({lower}, {upper})')\n",
        "    print('Риск убытков: {:1%}'.format((values < 0).mean()))\n",
        "    #сравниваем с необходимым риском\n",
        "    if (risk * 100) <= 2.5:\n",
        "        print('Риск убытков меньше необходимого значения. Регион можно оставить.')\n",
        "    else:\n",
        "        print('Риск убытков больше необходимого значения.')"
      ]
    },
    {
      "cell_type": "markdown",
      "metadata": {
        "id": "bp36NocSr3F6"
      },
      "source": [
        "Первый регион:"
      ]
    },
    {
      "cell_type": "code",
      "execution_count": null,
      "metadata": {
        "id": "PQLLgd1or3F6",
        "outputId": "34c1aba0-7d69-4639-cbc6-a3c1240398fa"
      },
      "outputs": [
        {
          "name": "stdout",
          "output_type": "stream",
          "text": [
            "Средняя прибыль в регионе: 425.94 млн.руб.\n",
            "95% доверительный интервал: (-102.09009483793592, 947.976353358369)\n",
            "Риск убытков: 6.000000%\n",
            "Риск убытков больше необходимого значения.\n"
          ]
        }
      ],
      "source": [
        "check_region(reg_1_tg_valid, predictions_1_valid)"
      ]
    },
    {
      "cell_type": "markdown",
      "metadata": {
        "id": "rbwMeyYVr3F6"
      },
      "source": [
        "Второй регион:"
      ]
    },
    {
      "cell_type": "code",
      "execution_count": null,
      "metadata": {
        "id": "ccVRMjG8r3F6",
        "outputId": "c4985c8c-f048-467a-c785-0ce0a17f2552"
      },
      "outputs": [
        {
          "name": "stdout",
          "output_type": "stream",
          "text": [
            "Средняя прибыль в регионе: 515.22 млн.руб.\n",
            "95% доверительный интервал: (68.87322537050254, 931.547591257049)\n",
            "Риск убытков: 1.000000%\n",
            "Риск убытков меньше необходимого значения. Регион можно оставить.\n"
          ]
        }
      ],
      "source": [
        "check_region(reg_2_tg_valid, predictions_2_valid)"
      ]
    },
    {
      "cell_type": "markdown",
      "metadata": {
        "id": "TTjD3aF0r3F6"
      },
      "source": [
        "Третий регион:"
      ]
    },
    {
      "cell_type": "code",
      "execution_count": null,
      "metadata": {
        "id": "XR59uKePr3F6",
        "outputId": "922b0a1a-5197-4409-f30b-6933c3601abd"
      },
      "outputs": [
        {
          "name": "stdout",
          "output_type": "stream",
          "text": [
            "Средняя прибыль в регионе: 435.01 млн.руб.\n",
            "95% доверительный интервал: (-128.88054732978893, 969.7069541802657)\n",
            "Риск убытков: 6.400000%\n",
            "Риск убытков больше необходимого значения.\n"
          ]
        }
      ],
      "source": [
        "check_region(reg_3_tg_valid, predictions_3_valid)"
      ]
    },
    {
      "cell_type": "markdown",
      "metadata": {
        "id": "WUy4WI3_r3F6"
      },
      "source": [
        "**Вывод**\n",
        "\n",
        "В ходе проведенного исследования мы получили результат, что у первого и третьего региона средняя прибыль меньше, чем у второго региона, а также вероятность убытков выше, соответственно, их рассматривать не имеет смысла.\n",
        "\n",
        "Для дальнейших установок скважин наиболее подходящим вариантом является второй регион, так как он показывает самый изкий риск убытков и самую высокую среднюю прибыль из трех вариантов."
      ]
    }
  ],
  "metadata": {
    "ExecuteTimeLog": [
      {
        "duration": 1590,
        "start_time": "2023-04-04T14:43:37.420Z"
      },
      {
        "duration": 4,
        "start_time": "2023-04-04T14:44:28.891Z"
      },
      {
        "duration": 1275,
        "start_time": "2023-04-04T14:47:55.046Z"
      },
      {
        "duration": 3,
        "start_time": "2023-04-04T17:17:42.860Z"
      },
      {
        "duration": 5,
        "start_time": "2023-04-04T17:17:46.243Z"
      },
      {
        "duration": 5,
        "start_time": "2023-04-04T17:17:47.288Z"
      },
      {
        "duration": 391,
        "start_time": "2023-04-04T17:17:47.296Z"
      },
      {
        "duration": 4,
        "start_time": "2023-04-04T17:17:48.859Z"
      },
      {
        "duration": 90,
        "start_time": "2023-04-04T17:18:33.410Z"
      },
      {
        "duration": 82,
        "start_time": "2023-04-04T17:19:26.493Z"
      },
      {
        "duration": 93,
        "start_time": "2023-04-04T17:20:27.113Z"
      },
      {
        "duration": 24,
        "start_time": "2023-04-04T17:22:15.619Z"
      },
      {
        "duration": 4,
        "start_time": "2023-04-04T17:22:34.409Z"
      },
      {
        "duration": 11,
        "start_time": "2023-04-04T17:23:54.133Z"
      },
      {
        "duration": 10,
        "start_time": "2023-04-04T17:24:05.811Z"
      },
      {
        "duration": 830,
        "start_time": "2023-04-04T17:29:40.846Z"
      },
      {
        "duration": 20,
        "start_time": "2023-04-04T17:30:00.624Z"
      },
      {
        "duration": 39,
        "start_time": "2023-04-04T17:30:22.628Z"
      },
      {
        "duration": 28,
        "start_time": "2023-04-04T17:31:05.480Z"
      },
      {
        "duration": 39,
        "start_time": "2023-04-04T17:31:50.560Z"
      },
      {
        "duration": 30,
        "start_time": "2023-04-04T17:32:02.783Z"
      },
      {
        "duration": 15,
        "start_time": "2023-04-04T17:36:34.381Z"
      },
      {
        "duration": 25,
        "start_time": "2023-04-04T17:37:39.689Z"
      },
      {
        "duration": 18,
        "start_time": "2023-04-04T17:38:09.531Z"
      },
      {
        "duration": 5,
        "start_time": "2023-04-04T17:38:31.382Z"
      },
      {
        "duration": 5,
        "start_time": "2023-04-04T17:38:31.719Z"
      },
      {
        "duration": 392,
        "start_time": "2023-04-04T17:38:31.988Z"
      },
      {
        "duration": 4,
        "start_time": "2023-04-04T17:38:32.383Z"
      },
      {
        "duration": 90,
        "start_time": "2023-04-04T17:38:33.156Z"
      },
      {
        "duration": 49,
        "start_time": "2023-04-04T17:38:33.641Z"
      },
      {
        "duration": 94,
        "start_time": "2023-04-04T17:38:34.905Z"
      },
      {
        "duration": 38,
        "start_time": "2023-04-04T17:38:35.282Z"
      },
      {
        "duration": 105,
        "start_time": "2023-04-04T17:38:36.708Z"
      },
      {
        "duration": 45,
        "start_time": "2023-04-04T17:38:37.155Z"
      },
      {
        "duration": 14,
        "start_time": "2023-04-04T17:38:39.360Z"
      },
      {
        "duration": 3,
        "start_time": "2023-04-04T17:42:43.467Z"
      },
      {
        "duration": 5,
        "start_time": "2023-04-04T17:50:41.268Z"
      },
      {
        "duration": 5,
        "start_time": "2023-04-04T17:51:49.561Z"
      },
      {
        "duration": 10,
        "start_time": "2023-04-04T17:54:05.253Z"
      },
      {
        "duration": 112,
        "start_time": "2023-04-04T17:54:21.121Z"
      },
      {
        "duration": 10,
        "start_time": "2023-04-04T17:54:21.997Z"
      },
      {
        "duration": 1483,
        "start_time": "2023-04-04T17:54:38.944Z"
      },
      {
        "duration": 6,
        "start_time": "2023-04-04T17:54:40.430Z"
      },
      {
        "duration": 448,
        "start_time": "2023-04-04T17:54:40.439Z"
      },
      {
        "duration": 4,
        "start_time": "2023-04-04T17:54:40.888Z"
      },
      {
        "duration": 109,
        "start_time": "2023-04-04T17:54:40.895Z"
      },
      {
        "duration": 47,
        "start_time": "2023-04-04T17:54:41.006Z"
      },
      {
        "duration": 125,
        "start_time": "2023-04-04T17:54:41.057Z"
      },
      {
        "duration": 42,
        "start_time": "2023-04-04T17:54:41.184Z"
      },
      {
        "duration": 119,
        "start_time": "2023-04-04T17:54:41.228Z"
      },
      {
        "duration": 29,
        "start_time": "2023-04-04T17:54:41.349Z"
      },
      {
        "duration": 23,
        "start_time": "2023-04-04T17:54:41.380Z"
      },
      {
        "duration": 19,
        "start_time": "2023-04-04T17:54:41.405Z"
      },
      {
        "duration": 12,
        "start_time": "2023-04-04T17:54:41.426Z"
      },
      {
        "duration": 303,
        "start_time": "2023-04-04T17:54:41.441Z"
      },
      {
        "duration": 0,
        "start_time": "2023-04-04T17:54:41.746Z"
      },
      {
        "duration": 4,
        "start_time": "2023-04-04T17:55:34.295Z"
      },
      {
        "duration": 378,
        "start_time": "2023-04-04T17:55:35.346Z"
      },
      {
        "duration": 3,
        "start_time": "2023-04-04T17:55:38.464Z"
      },
      {
        "duration": 5,
        "start_time": "2023-04-04T17:57:26.605Z"
      },
      {
        "duration": 3,
        "start_time": "2023-04-04T18:01:18.743Z"
      },
      {
        "duration": 41,
        "start_time": "2023-04-04T18:05:11.799Z"
      },
      {
        "duration": 453,
        "start_time": "2023-04-04T18:05:20.292Z"
      },
      {
        "duration": 12,
        "start_time": "2023-04-04T18:07:49.999Z"
      },
      {
        "duration": 1459,
        "start_time": "2023-04-04T18:08:13.132Z"
      },
      {
        "duration": 380,
        "start_time": "2023-04-04T18:08:14.594Z"
      },
      {
        "duration": 3,
        "start_time": "2023-04-04T18:08:14.976Z"
      },
      {
        "duration": 98,
        "start_time": "2023-04-04T18:08:14.981Z"
      },
      {
        "duration": 47,
        "start_time": "2023-04-04T18:08:15.081Z"
      },
      {
        "duration": 104,
        "start_time": "2023-04-04T18:08:15.130Z"
      },
      {
        "duration": 30,
        "start_time": "2023-04-04T18:08:15.236Z"
      },
      {
        "duration": 132,
        "start_time": "2023-04-04T18:08:15.267Z"
      },
      {
        "duration": 50,
        "start_time": "2023-04-04T18:08:15.400Z"
      },
      {
        "duration": 14,
        "start_time": "2023-04-04T18:08:15.452Z"
      },
      {
        "duration": 17,
        "start_time": "2023-04-04T18:08:15.468Z"
      },
      {
        "duration": 34,
        "start_time": "2023-04-04T18:08:15.486Z"
      },
      {
        "duration": 402,
        "start_time": "2023-04-04T18:08:15.522Z"
      },
      {
        "duration": 3,
        "start_time": "2023-04-04T18:08:15.927Z"
      },
      {
        "duration": 94,
        "start_time": "2023-04-04T18:08:15.932Z"
      },
      {
        "duration": 10,
        "start_time": "2023-04-04T18:08:16.028Z"
      },
      {
        "duration": 9,
        "start_time": "2023-04-04T18:08:16.040Z"
      },
      {
        "duration": 57,
        "start_time": "2023-04-05T09:19:21.910Z"
      },
      {
        "duration": 1720,
        "start_time": "2023-04-05T09:19:29.538Z"
      },
      {
        "duration": 994,
        "start_time": "2023-04-05T09:19:31.260Z"
      },
      {
        "duration": 11,
        "start_time": "2023-04-05T09:19:32.256Z"
      },
      {
        "duration": 91,
        "start_time": "2023-04-05T09:19:32.272Z"
      },
      {
        "duration": 26,
        "start_time": "2023-04-05T09:19:32.364Z"
      },
      {
        "duration": 100,
        "start_time": "2023-04-05T09:19:32.392Z"
      },
      {
        "duration": 27,
        "start_time": "2023-04-05T09:19:32.494Z"
      },
      {
        "duration": 118,
        "start_time": "2023-04-05T09:19:32.540Z"
      },
      {
        "duration": 29,
        "start_time": "2023-04-05T09:19:32.659Z"
      },
      {
        "duration": 11,
        "start_time": "2023-04-05T09:19:32.691Z"
      },
      {
        "duration": 12,
        "start_time": "2023-04-05T09:19:32.704Z"
      },
      {
        "duration": 27,
        "start_time": "2023-04-05T09:19:32.718Z"
      },
      {
        "duration": 314,
        "start_time": "2023-04-05T09:19:32.749Z"
      },
      {
        "duration": 7,
        "start_time": "2023-04-05T09:19:33.141Z"
      },
      {
        "duration": 99,
        "start_time": "2023-04-05T09:19:33.150Z"
      },
      {
        "duration": 6,
        "start_time": "2023-04-05T09:19:33.251Z"
      },
      {
        "duration": 43,
        "start_time": "2023-04-05T09:19:33.258Z"
      },
      {
        "duration": 9,
        "start_time": "2023-04-05T09:19:33.303Z"
      },
      {
        "duration": 4,
        "start_time": "2023-04-05T09:27:34.603Z"
      },
      {
        "duration": 5,
        "start_time": "2023-04-05T09:44:18.457Z"
      },
      {
        "duration": 125,
        "start_time": "2023-04-05T09:44:44.753Z"
      },
      {
        "duration": 5,
        "start_time": "2023-04-05T09:45:42.561Z"
      },
      {
        "duration": 1616,
        "start_time": "2023-04-05T09:45:44.338Z"
      },
      {
        "duration": 5,
        "start_time": "2023-04-05T09:46:05.563Z"
      },
      {
        "duration": 1563,
        "start_time": "2023-04-05T09:46:06.858Z"
      },
      {
        "duration": 3,
        "start_time": "2023-04-05T09:47:25.092Z"
      },
      {
        "duration": 7,
        "start_time": "2023-04-05T09:47:25.827Z"
      },
      {
        "duration": 3,
        "start_time": "2023-04-05T09:47:27.715Z"
      },
      {
        "duration": 3,
        "start_time": "2023-04-05T09:47:28.110Z"
      },
      {
        "duration": 12,
        "start_time": "2023-04-05T09:47:29.139Z"
      },
      {
        "duration": 1558,
        "start_time": "2023-04-05T09:47:29.924Z"
      },
      {
        "duration": 6,
        "start_time": "2023-04-05T09:48:33.269Z"
      },
      {
        "duration": 1649,
        "start_time": "2023-04-05T09:48:33.883Z"
      },
      {
        "duration": 3,
        "start_time": "2023-04-05T09:52:37.864Z"
      },
      {
        "duration": 5,
        "start_time": "2023-04-05T09:52:38.457Z"
      },
      {
        "duration": 26,
        "start_time": "2023-04-05T09:52:38.959Z"
      },
      {
        "duration": 3,
        "start_time": "2023-04-05T09:53:30.464Z"
      },
      {
        "duration": 6,
        "start_time": "2023-04-05T09:53:31.258Z"
      },
      {
        "duration": 1621,
        "start_time": "2023-04-05T09:53:31.767Z"
      },
      {
        "duration": 1682,
        "start_time": "2023-04-05T09:53:59.903Z"
      },
      {
        "duration": 1608,
        "start_time": "2023-04-05T09:54:23.258Z"
      },
      {
        "duration": 1612,
        "start_time": "2023-04-05T09:54:46.440Z"
      },
      {
        "duration": 6,
        "start_time": "2023-04-05T09:54:56.066Z"
      },
      {
        "duration": 1595,
        "start_time": "2023-04-05T09:54:56.761Z"
      },
      {
        "duration": 1723,
        "start_time": "2023-04-05T09:54:58.358Z"
      },
      {
        "duration": 1654,
        "start_time": "2023-04-05T09:55:00.083Z"
      }
    ],
    "kernelspec": {
      "display_name": "Python 3 (ipykernel)",
      "language": "python",
      "name": "python3"
    },
    "language_info": {
      "codemirror_mode": {
        "name": "ipython",
        "version": 3
      },
      "file_extension": ".py",
      "mimetype": "text/x-python",
      "name": "python",
      "nbconvert_exporter": "python",
      "pygments_lexer": "ipython3",
      "version": "3.9.5"
    },
    "toc": {
      "base_numbering": 1,
      "nav_menu": {},
      "number_sections": true,
      "sideBar": true,
      "skip_h1_title": true,
      "title_cell": "Table of Contents",
      "title_sidebar": "Contents",
      "toc_cell": false,
      "toc_position": {},
      "toc_section_display": true,
      "toc_window_display": true
    },
    "colab": {
      "provenance": []
    }
  },
  "nbformat": 4,
  "nbformat_minor": 0
}